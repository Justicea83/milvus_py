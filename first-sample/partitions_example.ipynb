{
 "cells": [
  {
   "cell_type": "code",
   "execution_count": 4,
   "id": "18f068a1-6d23-41e2-8138-47cbb801c090",
   "metadata": {
    "tags": []
   },
   "outputs": [],
   "source": [
    "from pymilvus import Collection, FieldSchema, DataType, connections, utility, CollectionSchema"
   ]
  },
  {
   "cell_type": "code",
   "execution_count": 5,
   "id": "ffce5b67-0943-44ce-9d7c-97b8b78ccd23",
   "metadata": {
    "tags": []
   },
   "outputs": [],
   "source": [
    "conn = connections.connect(\n",
    "    alias='default',\n",
    "    host='localhost',\n",
    "    port='19530'\n",
    ")"
   ]
  },
  {
   "cell_type": "code",
   "execution_count": 6,
   "id": "f2bea34a-7221-4ada-9a5e-4bc9ff9a2080",
   "metadata": {
    "tags": []
   },
   "outputs": [],
   "source": [
    "song_name = FieldSchema(\n",
    "    name='song_name',\n",
    "    dtype=DataType.VARCHAR,\n",
    "    max_length=200\n",
    ")\n",
    "\n",
    "song_id = FieldSchema(\n",
    "    name='song_id',\n",
    "    dtype=DataType.INT64,\n",
    "    is_primary=True\n",
    ")\n",
    "\n",
    "listen_count = FieldSchema(\n",
    "    name='listen_count',\n",
    "    dtype=DataType.INT64\n",
    ")\n",
    "\n",
    "song_vec = FieldSchema(\n",
    "    name='song_vec',\n",
    "    dtype=DataType.FLOAT_VECTOR,\n",
    "    dim=2\n",
    ")\n",
    "\n",
    "song_schema = CollectionSchema(\n",
    "    fields = [song_id, song_name, listen_count, song_vec],\n",
    "    description = 'Album Songs'\n",
    ")"
   ]
  },
  {
   "cell_type": "code",
   "execution_count": 7,
   "id": "afecdd15-6d26-4cb5-b657-45c27492f770",
   "metadata": {
    "tags": []
   },
   "outputs": [],
   "source": [
    "collection_name = \"song\""
   ]
  },
  {
   "cell_type": "code",
   "execution_count": 8,
   "id": "0fe7b5d1-3e6e-4034-921c-3029a0b5be47",
   "metadata": {
    "tags": []
   },
   "outputs": [],
   "source": [
    "collection = Collection(\n",
    "    name=collection_name,\n",
    "    schema=song_schema,\n",
    "    using='default'\n",
    ")"
   ]
  },
  {
   "cell_type": "code",
   "execution_count": 9,
   "id": "8866d597-f5f7-4132-add2-53e6764710e9",
   "metadata": {
    "tags": []
   },
   "outputs": [
    {
     "data": {
      "text/plain": [
       "{\"name\":\"partition_1\",\"collection_name\":\"song\",\"description\":\"\"}"
      ]
     },
     "execution_count": 9,
     "metadata": {},
     "output_type": "execute_result"
    }
   ],
   "source": [
    "collection.create_partition('partition_1')"
   ]
  },
  {
   "cell_type": "code",
   "execution_count": 10,
   "id": "8220d8d1-0e09-4448-b2d3-0b029302456b",
   "metadata": {
    "tags": []
   },
   "outputs": [
    {
     "data": {
      "text/plain": [
       "True"
      ]
     },
     "execution_count": 10,
     "metadata": {},
     "output_type": "execute_result"
    }
   ],
   "source": [
    "collection.has_partition('partition_1')"
   ]
  },
  {
   "cell_type": "code",
   "execution_count": 11,
   "id": "07a5b562-6c33-45d2-bbc8-593746a42aed",
   "metadata": {
    "tags": []
   },
   "outputs": [],
   "source": [
    "collection.drop_partition('partition_1')"
   ]
  },
  {
   "cell_type": "code",
   "execution_count": 12,
   "id": "fa6d232c-e67a-4bda-8861-986365b4297d",
   "metadata": {
    "tags": []
   },
   "outputs": [
    {
     "data": {
      "text/plain": [
       "False"
      ]
     },
     "execution_count": 12,
     "metadata": {},
     "output_type": "execute_result"
    }
   ],
   "source": [
    "collection.has_partition('partition_1')"
   ]
  },
  {
   "cell_type": "code",
   "execution_count": null,
   "id": "47d9e002-6af0-4b1e-82bc-f3f66eec5b8d",
   "metadata": {},
   "outputs": [],
   "source": []
  }
 ],
 "metadata": {
  "kernelspec": {
   "display_name": "Milvus Env",
   "language": "python",
   "name": "milvus_env"
  },
  "language_info": {
   "codemirror_mode": {
    "name": "ipython",
    "version": 3
   },
   "file_extension": ".py",
   "mimetype": "text/x-python",
   "name": "python",
   "nbconvert_exporter": "python",
   "pygments_lexer": "ipython3",
   "version": "3.11.5"
  }
 },
 "nbformat": 4,
 "nbformat_minor": 5
}
