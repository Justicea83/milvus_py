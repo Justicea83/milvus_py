{
 "cells": [
  {
   "cell_type": "code",
   "execution_count": 1,
   "id": "1931d1f9-cb2c-4510-a3e4-8df179262aa5",
   "metadata": {
    "tags": []
   },
   "outputs": [],
   "source": [
    "from pymilvus import connections, utility, db, CollectionSchema, FieldSchema, DataType"
   ]
  },
  {
   "cell_type": "code",
   "execution_count": 2,
   "id": "bf440d44-5681-4812-8456-44fe32ad99aa",
   "metadata": {
    "tags": []
   },
   "outputs": [],
   "source": [
    "conn = connections.connect(\n",
    "    alias='default',\n",
    "    host='localhost',\n",
    "    port='19530'\n",
    ")"
   ]
  },
  {
   "cell_type": "code",
   "execution_count": 5,
   "id": "cd097e89-d2ec-4e67-8b03-e6366ec3bad2",
   "metadata": {
    "tags": []
   },
   "outputs": [],
   "source": [
    "song_name = FieldSchema(\n",
    "    name='song_name',\n",
    "    dtype=DataType.VARCHAR,\n",
    "    max_length=200\n",
    ")\n",
    "\n",
    "song_id = FieldSchema(\n",
    "    name='song_id',\n",
    "    dtype=DataType.INT64,\n",
    "    is_primary=True\n",
    ")\n",
    "\n",
    "listen_count = FieldSchema(\n",
    "    name='listen_count',\n",
    "    dtype=DataType.INT64\n",
    ")\n",
    "\n",
    "song_vec = FieldSchema(\n",
    "    name='song_vec',\n",
    "    dtype=DataType.FLOAT_VECTOR,\n",
    "    dim=2\n",
    ")\n",
    "\n",
    "song_schema = CollectionSchema(\n",
    "    fields = [song_id, song_name, listen_count, song_vec],\n",
    "    description = 'Album Songs'\n",
    ")"
   ]
  },
  {
   "cell_type": "code",
   "execution_count": 9,
   "id": "1459d4d6-56ab-4ad3-a395-a6d08c3554ac",
   "metadata": {
    "tags": []
   },
   "outputs": [],
   "source": [
    "collection_name = \"song\""
   ]
  },
  {
   "cell_type": "code",
   "execution_count": 6,
   "id": "0c495c4e-d16a-4688-9ab2-89f8973d6f48",
   "metadata": {
    "tags": []
   },
   "outputs": [],
   "source": [
    "from pymilvus import Collection\n",
    "\n",
    "collection = Collection(\n",
    "    name=collection_name,\n",
    "    schema=song_schema,\n",
    "    using='default'\n",
    ")"
   ]
  },
  {
   "cell_type": "code",
   "execution_count": 11,
   "id": "82de0572-a4bc-4e3f-a8f1-470d16d65305",
   "metadata": {
    "tags": []
   },
   "outputs": [
    {
     "data": {
      "text/plain": [
       "['song']"
      ]
     },
     "execution_count": 11,
     "metadata": {},
     "output_type": "execute_result"
    }
   ],
   "source": [
    "utility.list_collections()"
   ]
  },
  {
   "cell_type": "code",
   "execution_count": 8,
   "id": "35daa76b-f77d-4cfc-abd7-e5839430d791",
   "metadata": {
    "tags": []
   },
   "outputs": [
    {
     "data": {
      "text/plain": [
       "'book'"
      ]
     },
     "execution_count": 8,
     "metadata": {},
     "output_type": "execute_result"
    }
   ],
   "source": [
    "collection_name"
   ]
  },
  {
   "cell_type": "code",
   "execution_count": 12,
   "id": "1a1d8942-ce13-4577-b1f8-ad2470027e86",
   "metadata": {
    "tags": []
   },
   "outputs": [],
   "source": [
    "#utility.rename_collection('book', collection_name)"
   ]
  },
  {
   "cell_type": "code",
   "execution_count": 13,
   "id": "1ee4ce78-daf6-42c1-beed-44a091179b0c",
   "metadata": {
    "tags": []
   },
   "outputs": [],
   "source": [
    "utility.drop_collection(collection_name)"
   ]
  },
  {
   "cell_type": "code",
   "execution_count": 14,
   "id": "4410be9c-3ae5-4a7c-9792-4062fad28d9c",
   "metadata": {
    "tags": []
   },
   "outputs": [
    {
     "data": {
      "text/plain": [
       "[]"
      ]
     },
     "execution_count": 14,
     "metadata": {},
     "output_type": "execute_result"
    }
   ],
   "source": [
    "utility.list_collections()"
   ]
  },
  {
   "cell_type": "code",
   "execution_count": null,
   "id": "b00c2e16-8080-4c42-8a3d-a82bbd493ef9",
   "metadata": {},
   "outputs": [],
   "source": []
  }
 ],
 "metadata": {
  "kernelspec": {
   "display_name": "Milvus Env",
   "language": "python",
   "name": "milvus_env"
  },
  "language_info": {
   "codemirror_mode": {
    "name": "ipython",
    "version": 3
   },
   "file_extension": ".py",
   "mimetype": "text/x-python",
   "name": "python",
   "nbconvert_exporter": "python",
   "pygments_lexer": "ipython3",
   "version": "3.11.5"
  }
 },
 "nbformat": 4,
 "nbformat_minor": 5
}
