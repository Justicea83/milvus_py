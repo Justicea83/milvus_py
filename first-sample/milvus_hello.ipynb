{
 "cells": [
  {
   "cell_type": "code",
   "execution_count": 2,
   "id": "305fbbad-df3a-4819-b4c0-332f2bf3974f",
   "metadata": {
    "tags": []
   },
   "outputs": [
    {
     "name": "stdout",
     "output_type": "stream",
     "text": [
      "Requirement already satisfied: pymilvus==2.3.3 in /Users/justicearthur/anaconda3/lib/python3.11/site-packages (2.3.3)\n",
      "Requirement already satisfied: protobuf in /Users/justicearthur/anaconda3/lib/python3.11/site-packages (4.22.1)\n",
      "Collecting grpcio-tools\n",
      "  Downloading grpcio_tools-1.59.2-cp311-cp311-macosx_10_10_universal2.whl (4.9 MB)\n",
      "\u001b[2K     \u001b[38;2;114;156;31m━━━━━━━━━━━━━━━━━━━━━━━━━━━━━━━━━━━━━━━━\u001b[0m \u001b[32m4.9/4.9 MB\u001b[0m \u001b[31m29.0 MB/s\u001b[0m eta \u001b[36m0:00:00\u001b[0mm eta \u001b[36m0:00:01\u001b[0m0:01\u001b[0m:01\u001b[0m\n",
      "\u001b[?25hRequirement already satisfied: grpcio<=1.58.0,>=1.49.1 in /Users/justicearthur/anaconda3/lib/python3.11/site-packages (from pymilvus==2.3.3) (1.57.0)\n",
      "Requirement already satisfied: environs<=9.5.0 in /Users/justicearthur/anaconda3/lib/python3.11/site-packages (from pymilvus==2.3.3) (9.5.0)\n",
      "Requirement already satisfied: ujson>=2.0.0 in /Users/justicearthur/anaconda3/lib/python3.11/site-packages (from pymilvus==2.3.3) (5.4.0)\n",
      "Requirement already satisfied: pandas>=1.2.4 in /Users/justicearthur/anaconda3/lib/python3.11/site-packages (from pymilvus==2.3.3) (2.1.1)\n",
      "Requirement already satisfied: requests in /Users/justicearthur/anaconda3/lib/python3.11/site-packages (from pymilvus==2.3.3) (2.31.0)\n",
      "Requirement already satisfied: minio>=7.0.0 in /Users/justicearthur/anaconda3/lib/python3.11/site-packages (from pymilvus==2.3.3) (7.2.0)\n",
      "INFO: pip is looking at multiple versions of grpcio-tools to determine which version is compatible with other requirements. This could take a while.\n",
      "  Downloading grpcio_tools-1.59.0-cp311-cp311-macosx_10_10_universal2.whl (4.9 MB)\n",
      "\u001b[2K     \u001b[38;2;114;156;31m━━━━━━━━━━━━━━━━━━━━━━━━━━━━━━━━━━━━━━━━\u001b[0m \u001b[32m4.9/4.9 MB\u001b[0m \u001b[31m26.1 MB/s\u001b[0m eta \u001b[36m0:00:00\u001b[0mm eta \u001b[36m0:00:01\u001b[0m0:01\u001b[0m:01\u001b[0m\n",
      "\u001b[?25h  Downloading grpcio_tools-1.58.0-cp311-cp311-macosx_10_10_universal2.whl (4.6 MB)\n",
      "\u001b[2K     \u001b[38;2;114;156;31m━━━━━━━━━━━━━━━━━━━━━━━━━━━━━━━━━━━━━━━━\u001b[0m \u001b[32m4.6/4.6 MB\u001b[0m \u001b[31m12.0 MB/s\u001b[0m eta \u001b[36m0:00:00\u001b[0mm eta \u001b[36m0:00:01\u001b[0m0:01\u001b[0m01\u001b[0m\n",
      "\u001b[?25hCollecting grpcio<=1.58.0,>=1.49.1 (from pymilvus==2.3.3)\n",
      "  Downloading grpcio-1.58.0-cp311-cp311-macosx_10_10_universal2.whl (9.5 MB)\n",
      "\u001b[2K     \u001b[38;2;114;156;31m━━━━━━━━━━━━━━━━━━━━━━━━━━━━━━━━━━━━━━━━\u001b[0m \u001b[32m9.5/9.5 MB\u001b[0m \u001b[31m12.3 MB/s\u001b[0m eta \u001b[36m0:00:00\u001b[0mm eta \u001b[36m0:00:01\u001b[0m[36m0:00:01\u001b[0m\n",
      "\u001b[?25hRequirement already satisfied: setuptools in /Users/justicearthur/anaconda3/lib/python3.11/site-packages (from grpcio-tools) (67.8.0)\n",
      "Requirement already satisfied: marshmallow>=3.0.0 in /Users/justicearthur/anaconda3/lib/python3.11/site-packages (from environs<=9.5.0->pymilvus==2.3.3) (3.20.1)\n",
      "Requirement already satisfied: python-dotenv in /Users/justicearthur/anaconda3/lib/python3.11/site-packages (from environs<=9.5.0->pymilvus==2.3.3) (0.21.0)\n",
      "Requirement already satisfied: certifi in /Users/justicearthur/anaconda3/lib/python3.11/site-packages (from minio>=7.0.0->pymilvus==2.3.3) (2019.11.28)\n",
      "Requirement already satisfied: urllib3 in /Users/justicearthur/anaconda3/lib/python3.11/site-packages (from minio>=7.0.0->pymilvus==2.3.3) (1.26.13)\n",
      "Requirement already satisfied: argon2-cffi in /Users/justicearthur/anaconda3/lib/python3.11/site-packages (from minio>=7.0.0->pymilvus==2.3.3) (21.3.0)\n",
      "Requirement already satisfied: pycryptodome in /Users/justicearthur/anaconda3/lib/python3.11/site-packages (from minio>=7.0.0->pymilvus==2.3.3) (3.19.0)\n",
      "Requirement already satisfied: numpy>=1.23.2 in /Users/justicearthur/anaconda3/lib/python3.11/site-packages (from pandas>=1.2.4->pymilvus==2.3.3) (1.23.3)\n",
      "Requirement already satisfied: python-dateutil>=2.8.2 in /Users/justicearthur/anaconda3/lib/python3.11/site-packages (from pandas>=1.2.4->pymilvus==2.3.3) (2.8.2)\n",
      "Requirement already satisfied: pytz>=2020.1 in /Users/justicearthur/anaconda3/lib/python3.11/site-packages (from pandas>=1.2.4->pymilvus==2.3.3) (2023.3.post1)\n",
      "Requirement already satisfied: tzdata>=2022.1 in /Users/justicearthur/anaconda3/lib/python3.11/site-packages (from pandas>=1.2.4->pymilvus==2.3.3) (2023.3)\n",
      "Requirement already satisfied: charset-normalizer<4,>=2 in /Users/justicearthur/anaconda3/lib/python3.11/site-packages (from requests->pymilvus==2.3.3) (2.1.0)\n",
      "Requirement already satisfied: idna<4,>=2.5 in /Users/justicearthur/anaconda3/lib/python3.11/site-packages (from requests->pymilvus==2.3.3) (3.4)\n",
      "Requirement already satisfied: packaging>=17.0 in /Users/justicearthur/anaconda3/lib/python3.11/site-packages (from marshmallow>=3.0.0->environs<=9.5.0->pymilvus==2.3.3) (23.1)\n",
      "Requirement already satisfied: six>=1.5 in /Users/justicearthur/anaconda3/lib/python3.11/site-packages (from python-dateutil>=2.8.2->pandas>=1.2.4->pymilvus==2.3.3) (1.16.0)\n",
      "Requirement already satisfied: argon2-cffi-bindings in /Users/justicearthur/anaconda3/lib/python3.11/site-packages (from argon2-cffi->minio>=7.0.0->pymilvus==2.3.3) (21.2.0)\n",
      "Requirement already satisfied: cffi>=1.0.1 in /Users/justicearthur/anaconda3/lib/python3.11/site-packages (from argon2-cffi-bindings->argon2-cffi->minio>=7.0.0->pymilvus==2.3.3) (1.14.5)\n",
      "Requirement already satisfied: pycparser in /Users/justicearthur/anaconda3/lib/python3.11/site-packages (from cffi>=1.0.1->argon2-cffi-bindings->argon2-cffi->minio>=7.0.0->pymilvus==2.3.3) (2.20)\n",
      "Installing collected packages: grpcio, grpcio-tools\n",
      "  Attempting uninstall: grpcio\n",
      "    Found existing installation: grpcio 1.57.0\n",
      "    Uninstalling grpcio-1.57.0:\n",
      "      Successfully uninstalled grpcio-1.57.0\n",
      "\u001b[31mERROR: pip's dependency resolver does not currently take into account all the packages that are installed. This behaviour is the source of the following dependency conflicts.\n",
      "tensorflow-macos 2.13.0 requires typing-extensions<4.6.0,>=3.6.6, but you have typing-extensions 4.7.1 which is incompatible.\u001b[0m\u001b[31m\n",
      "\u001b[0mSuccessfully installed grpcio-1.58.0 grpcio-tools-1.58.0\n"
     ]
    }
   ],
   "source": [
    "!pip install pymilvus==2.3.3 protobuf grpcio-tools"
   ]
  },
  {
   "cell_type": "code",
   "execution_count": 10,
   "id": "9149521c-3cad-434e-bf98-654af4b9522e",
   "metadata": {
    "tags": []
   },
   "outputs": [],
   "source": [
    "from pymilvus import connections, utility, db"
   ]
  },
  {
   "cell_type": "code",
   "execution_count": 11,
   "id": "9139f55f-137b-4580-98b1-0b4e2ee103ba",
   "metadata": {
    "tags": []
   },
   "outputs": [],
   "source": [
    "conn = connections.connect(\n",
    "    alias='default',\n",
    "    host='localhost',\n",
    "    port='19530'\n",
    ")"
   ]
  },
  {
   "cell_type": "code",
   "execution_count": 14,
   "id": "a3f88fd6-5a86-47e7-8957-b9e289d1dfc8",
   "metadata": {
    "tags": []
   },
   "outputs": [
    {
     "data": {
      "text/plain": [
       "\u001b[0;31mType:\u001b[0m        module\n",
       "\u001b[0;31mString form:\u001b[0m <module 'pymilvus.orm.utility' from '/Users/justicearthur/anaconda3/lib/python3.11/site-packages/pymilvus/orm/utility.py'>\n",
       "\u001b[0;31mFile:\u001b[0m        ~/anaconda3/lib/python3.11/site-packages/pymilvus/orm/utility.py\n",
       "\u001b[0;31mDocstring:\u001b[0m   <no docstring>"
      ]
     },
     "metadata": {},
     "output_type": "display_data"
    }
   ],
   "source": [
    "utility?"
   ]
  },
  {
   "cell_type": "code",
   "execution_count": null,
   "id": "300e2a24-6774-487b-9a3a-936145bdfd1f",
   "metadata": {},
   "outputs": [],
   "source": []
  }
 ],
 "metadata": {
  "kernelspec": {
   "display_name": "Milvus Env",
   "language": "python",
   "name": "milvus_env"
  },
  "language_info": {
   "codemirror_mode": {
    "name": "ipython",
    "version": 3
   },
   "file_extension": ".py",
   "mimetype": "text/x-python",
   "name": "python",
   "nbconvert_exporter": "python",
   "pygments_lexer": "ipython3",
   "version": "3.11.5"
  }
 },
 "nbformat": 4,
 "nbformat_minor": 5
}
